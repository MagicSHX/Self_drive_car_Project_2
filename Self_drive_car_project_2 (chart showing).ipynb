{
 "cells": [
  {
   "cell_type": "code",
   "execution_count": 1,
   "metadata": {},
   "outputs": [
    {
     "data": {
      "image/png": "[encoded data removed]",
      "text/plain": [
       "<matplotlib.figure.Figure at 0x1a99dac0518>"
      ]
     },
     "metadata": {},
     "output_type": "display_data"
    },
    {
     "data": {
      "image/png": "[encoded data removed]",
      "text/plain": [
       "<matplotlib.figure.Figure at 0x1a99dba2e10>"
      ]
     },
     "metadata": {},
     "output_type": "display_data"
    },
    {
     "name": "stdout",
     "output_type": "stream",
     "text": [
      "shape: (32, 32), min: 0.09213058823529413, max: 0.41472451439950986\n"
     ]
    },
    {
     "data": {
      "image/png": "[encoded data removed]",
      "text/plain": [
       "<matplotlib.figure.Figure at 0x1a99dbf1518>"
      ]
     },
     "metadata": {},
     "output_type": "display_data"
    },
    {
     "name": "stdout",
     "output_type": "stream",
     "text": [
      "shape: (32, 32), min: 0.05897559627757353, max: 0.23410500268075982\n"
     ]
    },
    {
     "data": {
      "image/png": "[encoded data removed]",
      "text/plain": [
       "<matplotlib.figure.Figure at 0x1a99dc0b940>"
      ]
     },
     "metadata": {},
     "output_type": "display_data"
    },
    {
     "name": "stdout",
     "output_type": "stream",
     "text": [
      "shape: (32, 32), min: 0.07269037990196078, max: 1.0\n"
     ]
    },
    {
     "data": {
      "image/png": "[encoded data removed]",
      "text/plain": [
       "<matplotlib.figure.Figure at 0x1a99db63320>"
      ]
     },
     "metadata": {},
     "output_type": "display_data"
    },
    {
     "name": "stdout",
     "output_type": "stream",
     "text": [
      "shape: (32, 32), min: 0.05033735906862745, max: 0.3516048039215687\n",
      "{0, 1, 2, 3, 4, 5, 6, 7, 8, 9, 10, 11, 12, 13, 14, 15, 16, 17, 18, 19, 20, 21, 22, 23, 24, 25, 26, 27, 28, 29, 30, 31, 32, 33, 34, 35, 36, 37, 38, 39, 40, 41, 42}\n"
     ]
    }
   ],
   "source": [
    "import pickle\n",
    "import numpy as np\n",
    "import matplotlib.pyplot as plt \n",
    "from skimage.color import rgb2gray\n",
    "import os\n",
    "import cv2\n",
    "\n",
    "os.environ['TF_CPP_MIN_LOG_LEVEL'] = '2'\n",
    "\n",
    "def Main():\n",
    "    \n",
    "    train_data_sizes = []\n",
    "    train_data_coords = []\n",
    "    train_data_features = []\n",
    "    train_data_labels = []\n",
    "    \n",
    "    try:\n",
    "        with open('G:/Udacity/Project 2/traffic-signs-data/train.p','rb') as snapFile:\n",
    "        #with open('C:/Users/alsshxu/Desktop/2018 HX/UdaCity/Project 2/traffic-signs-data/train.p','rb') as snapFile:\n",
    "            savedSnaps = pickle.load(snapFile)\n",
    "    except IOError as e:\n",
    "        return False\n",
    "    #print(savedSnaps)\n",
    "    train_data_sizes=savedSnaps['sizes']\n",
    "    train_data_coords = savedSnaps['coords']\n",
    "    train_data_features = savedSnaps['features']\n",
    "    train_data_labels = savedSnaps['labels']\n",
    "    train_images = rgb2gray(train_data_features)\n",
    "\n",
    "    for i in range(0,34799):\n",
    "        train_data_coords[i][0]=int(train_data_coords[i][0] * 32 / train_data_sizes[i][0])\n",
    "        train_data_coords[i][1]=int(train_data_coords[i][1] * 32 / train_data_sizes[i][1])\n",
    "        train_data_coords[i][2]=int(train_data_coords[i][2] * 32 / train_data_sizes[i][0])+1\n",
    "        train_data_coords[i][3]=int(train_data_coords[i][3] * 32 / train_data_sizes[i][1])+1\n",
    "        crop_img = train_images[i][train_data_coords[i][1]:train_data_coords[i][3], train_data_coords[i][0]:train_data_coords[i][2]]\n",
    "        train_images[i] = cv2.resize(crop_img,(32,32))\n",
    "    name_values = np.genfromtxt('signnames.csv', skip_header=1, dtype=[('myint','i8'), ('mysring','S55')], delimiter=',')\n",
    "    train_data_sizes = []\n",
    "    train_data_coords = []\n",
    "    \n",
    "    plt.hist(train_data_labels, 42)\n",
    "    plt.show()\n",
    "    \n",
    "    # Import the `pyplot` module of `matplotlib`\n",
    "    # Determine the (random) indexes of the train_images that you want to see \n",
    "    traffic_signs = [1, 200, 3000, 6000]\n",
    "    \n",
    "    # Fill out the subplots with the random train_images that you defined \n",
    "    for i in range(len(traffic_signs)):\n",
    "        plt.subplot(1, 4, i+1)\n",
    "        plt.axis('off')\n",
    "        plt.imshow(train_images[traffic_signs[i]], cmap='gray')\n",
    "        plt.subplots_adjust(wspace=0.5)\n",
    "        plt.show()\n",
    "        print(\"shape: {0}, min: {1}, max: {2}\".format(train_images[traffic_signs[i]].shape, \n",
    "                                                  train_images[traffic_signs[i]].min(), \n",
    "                                                  train_images[traffic_signs[i]].max()))\n",
    "    unique_labels = set(train_data_labels)\n",
    "    print(unique_labels)\n",
    "    train_data_sizes = []\n",
    "    train_data_coords = []\n",
    "    # Import `tensorflow` \n",
    "\n",
    "Main()"
   ]
  }
 ],
 "metadata": {
  "kernelspec": {
   "display_name": "Python 3",
   "language": "python",
   "name": "python3"
  },
  "language_info": {
   "codemirror_mode": {
    "name": "ipython",
    "version": 3
   },
   "file_extension": ".py",
   "mimetype": "text/x-python",
   "name": "python",
   "nbconvert_exporter": "python",
   "pygments_lexer": "ipython3",
   "version": "3.6.3"
  }
 },
 "nbformat": 4,
 "nbformat_minor": 2
}
